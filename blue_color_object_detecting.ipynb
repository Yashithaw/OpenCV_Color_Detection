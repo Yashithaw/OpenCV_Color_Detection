{
 "cells": [
  {
   "cell_type": "code",
   "execution_count": 5,
   "id": "06b231c0",
   "metadata": {},
   "outputs": [
    {
     "name": "stdout",
     "output_type": "stream",
     "text": [
      "Video device opened successfully\n"
     ]
    }
   ],
   "source": [
    "import cv2\n",
    "import numpy as np\n",
    "from PIL import Image\n",
    "\n",
    "def blue_limits():\n",
    "    \n",
    "    blue = [255, 0, 0]\n",
    "\n",
    "    c = np.uint8([[blue]])  \n",
    "    hsvC = cv2.cvtColor(c, cv2.COLOR_BGR2HSV)\n",
    "\n",
    "    hue = hsvC[0][0][0]  \n",
    "\n",
    "    \n",
    "    lower_limit = np.array([hue - 10, 100, 100], dtype=np.uint8)\n",
    "    upper_limit = np.array([hue + 10, 255, 255], dtype=np.uint8)\n",
    "\n",
    "    return lower_limit, upper_limit\n",
    "\n",
    "\n",
    "cap = cv2.VideoCapture(0)\n",
    "\n",
    "if not cap.isOpened():\n",
    "    print(\"Error: Could not open video device\")\n",
    "else:\n",
    "    print(\"Video device opened successfully\")\n",
    "\n",
    "while True:\n",
    "    ret, frame = cap.read()\n",
    "\n",
    "    if not ret:\n",
    "        print(\"Error: Failed to capture frame\")\n",
    "        break\n",
    "\n",
    "    hsvImage = cv2.cvtColor(frame, cv2.COLOR_BGR2HSV)\n",
    "\n",
    "    \n",
    "    lowerLimit, upperLimit = blue_limits()\n",
    "\n",
    "    \n",
    "    mask = cv2.inRange(hsvImage, lowerLimit, upperLimit)\n",
    "\n",
    "    \n",
    "    mask_ = Image.fromarray(mask)\n",
    "\n",
    "    \n",
    "    bounding_box = mask_.getbbox()\n",
    "\n",
    "    \n",
    "    if bounding_box is not None:\n",
    "        x1, y1, x2, y2 = bounding_box\n",
    "        frame = cv2.rectangle(frame, (x1, y1), (x2, y2), (0, 0, 255), 5)  \n",
    "\n",
    "   \n",
    "    cv2.imshow('video_frame', frame)\n",
    "\n",
    "    \n",
    "    if cv2.waitKey(1) & 0xFF == ord('q'):\n",
    "        break\n",
    "\n",
    "\n",
    "cap.release()\n",
    "cv2.destroyAllWindows()\n"
   ]
  },
  {
   "cell_type": "code",
   "execution_count": null,
   "id": "bae11082",
   "metadata": {},
   "outputs": [],
   "source": []
  }
 ],
 "metadata": {
  "kernelspec": {
   "display_name": "Python 3 (ipykernel)",
   "language": "python",
   "name": "python3"
  },
  "language_info": {
   "codemirror_mode": {
    "name": "ipython",
    "version": 3
   },
   "file_extension": ".py",
   "mimetype": "text/x-python",
   "name": "python",
   "nbconvert_exporter": "python",
   "pygments_lexer": "ipython3",
   "version": "3.11.7"
  }
 },
 "nbformat": 4,
 "nbformat_minor": 5
}
